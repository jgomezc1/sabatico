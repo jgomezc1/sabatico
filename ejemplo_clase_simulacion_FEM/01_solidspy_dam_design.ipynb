{
 "cells": [
  {
   "cell_type": "markdown",
   "metadata": {
    "raw_mimetype": "text/latex"
   },
   "source": [
    "Contenido bajo licencia Creative Commons BY 4.0 y código bajo licencia MIT. © Juan Gómez y Nicolas Guarín-Zapata 2019. Este material es parte del curso Introducción al Método de los Elementos Finitos en el área de Mecánica Aplicada de la Universidad EAFIT."
   ]
  },
  {
   "cell_type": "markdown",
   "metadata": {},
   "source": [
    "# Respuesta de una presa trapezoidal de concreto.\n",
    "(Elementos Finitos)"
   ]
  },
  {
   "cell_type": "markdown",
   "metadata": {},
   "source": [
    "Considere la presa de concreto de forma trapezoidal mostrada en la figura:\n",
    "\n",
    "\n",
    "<center>\n",
    "    <img src=\"img/presa.svg\"\n",
    "         alt=\"Diagrama de la presa.\"\n",
    "         style=\"width:400px\">\n",
    "</center>\n",
    "\n",
    "\n",
    "\n",
    "y definida por los siguientes paramétros:\n",
    "\n",
    "* $H_p $ : altura de la presa .\n",
    "\n",
    "* $A_p$ : ancho de la pata.\n",
    "\n",
    "* $A_c$ : ancho de la cresta.\n",
    "\n",
    "Para efectos del modelo de análisis los paramétros para el rectangulo que representa el suelo se definen como:\n",
    "\n",
    "* $H_s$ : profundidad del deposito de suelo.\n",
    "\n",
    "* $D_l$ : distancia de la frontera izquierda medida desde la pata de la presa.\n",
    "\n",
    "* $D_r$ : distancia de la fronetra derecha medida desde la pata de la presa.\n",
    "\n",
    "<center>\n",
    "    <img src=\"img/presa_dim.svg\"\n",
    "         alt=\"Diagrama de la presa.\"\n",
    "         style=\"width:400px\">\n",
    "</center>\n",
    "\n",
    "\n",
    "El material base para el concreto de la presa tiene las siguientes propiedades:\n",
    "\n",
    "* Módulo de elasticidad: 50 GPa.\n",
    "\n",
    "* Relación de Poisson: 0.20.\n",
    "\n",
    "* Resistencia a la compresión: 60 MPa.\n",
    "\n",
    "* Resistencia a la tensión: 10 MPa.\n",
    "\n",
    "* Resistencia al corte : 15 MPa.\n",
    "\n",
    "La presa se construirá sobre un basamento rocoso (basalto asumido elástico ) con las siguientes propiedades:\n",
    "\n",
    "* Módulo de elasticidad: 60 GPa.\n",
    "\n",
    "* Relación de Poisson: 0.20.\n",
    "\n",
    "Se asume además que:\n",
    "\n",
    "* La presa estará sometida a la acción de la presión hidrostática impartida por un fluido de peso especifico $\\gamma = 9.8 \\text{ kN/m}^3$ y dada por:\n",
    "\n",
    "$$p = \\gamma z$$\n",
    "\n",
    "donde  $z$ es la distancia desde la superficie libre del fluido asumida en la misma cota de la cresta de la presa."
   ]
  },
  {
   "cell_type": "markdown",
   "metadata": {},
   "source": [
    "## Actividades.\n",
    "\n",
    "Determinar los campos de desplazamientos, deformaciones y tensiones considerando el empuje del fluido y el peso propio de la presa."
   ]
  },
  {
   "cell_type": "markdown",
   "metadata": {},
   "source": [
    "<div class=\"alert alert-warning\">\n",
    "    \n",
    "**Pasos mínimos requeridos en el análisis**\n",
    "\n",
    "* Identifique las condiciones de frontera (físicas) del problema y proponga alternativas de simulación justificando cada propuesta.\n",
    "\n",
    "* Usando la energía de deformación dada por\n",
    "\n",
    "$$\\Pi=\\frac12\\sigma_{ij}\\varepsilon_{ij}$$\n",
    "\n",
    "determine la malla apropiada para realizar el análisis.\n",
    "\n",
    "\n",
    "* Programe una rutina que usando los desplazamientos nodales resultantes del análisis calcule las fuerzas externas, incluyendo las reacciones en los apoyos de manera que se puedan hacer verificaciones de equilibrio de la solución.\n",
    "\n",
    "* Programe una rutina que, usando los desplazamientos nodales resultantes del análisis, grafique la configuración deformada de la presa de acuerdo con:\n",
    "\n",
    "\n",
    "$$\\overrightarrow{X_F}=\\overrightarrow{X_o}+\\;\\overrightarrow U$$\n",
    "\n",
    "donde $\\overrightarrow{X_o}$ es la configuración original, $\\overrightarrow{X_F}$ es la configuración deformada y $\\overrightarrow U$ es la solución por desplazamientos.\n",
    "\n",
    "* Supongase que las cargas laterales se van a imponer de manera incremental de forma que en un instante determinado las tensiones resultantes del paso anterior sean consideradas como pre-esfuerzos. Programe una rutina que convierta este estado de tensiones a fuerzas nodales consistentes con el esquema de interpolación implícito en el método.\n",
    "\n",
    "</div>"
   ]
  },
  {
   "cell_type": "markdown",
   "metadata": {},
   "source": [
    "## Análisis"
   ]
  },
  {
   "cell_type": "code",
   "execution_count": 5,
   "metadata": {},
   "outputs": [],
   "source": [
    "# Importe los modulos necesarios para realizar el análisis"
   ]
  },
  {
   "cell_type": "code",
   "execution_count": 6,
   "metadata": {},
   "outputs": [],
   "source": [
    "# Lea el modelo, ensamble y resuelva el sistema de ecuaciones"
   ]
  },
  {
   "cell_type": "code",
   "execution_count": 7,
   "metadata": {},
   "outputs": [],
   "source": [
    "# Post-procese los resultados para análizar el modelo."
   ]
  },
  {
   "cell_type": "markdown",
   "metadata": {},
   "source": [
    "### Referencias"
   ]
  },
  {
   "cell_type": "markdown",
   "metadata": {},
   "source": [
    "* Juan Gómez, Nicolás Guarín-Zapata (2018). SolidsPy: 2D-Finite Element Analysis with Python, <https://github.com/AppliedMechanics-EAFIT/SolidsPy>."
   ]
  },
  {
   "cell_type": "code",
   "execution_count": 4,
   "metadata": {},
   "outputs": [
    {
     "data": {
      "text/html": [
       "\n",
       "<link href='http://fonts.googleapis.com/css?family=Fenix' rel='stylesheet' type='text/css'>\n",
       "<link href='http://fonts.googleapis.com/css?family=Alegreya+Sans:100,300,400,500,700,800,900,100italic,300italic,400italic,500italic,700italic,800italic,900italic' rel='stylesheet' type='text/css'>\n",
       "<link href='http://fonts.googleapis.com/css?family=Source+Code+Pro:300,400' rel='stylesheet' type='text/css'>\n",
       "\n",
       "<style>\n",
       "\n",
       "/*\n",
       "Template for Notebooks for Modelación computacional.\n",
       "\n",
       "Based on Lorena Barba template available at:\n",
       "\n",
       "    https://github.com/barbagroup/AeroPython/blob/master/styles/custom.css\n",
       "*/\n",
       "\n",
       "/* Fonts */\n",
       "@font-face {\n",
       "font-family: \"Computer Modern\";\n",
       "src: url('http://mirrors.ctan.org/fonts/cm-unicode/fonts/otf/cmunss.otf');\n",
       "}\n",
       "\n",
       "/* Text */\n",
       "div.cell{\n",
       "width:800px;\n",
       "margin-left:16% !important;\n",
       "margin-right:auto;\n",
       "}\n",
       "h1 {\n",
       "font-family: 'Alegreya Sans', sans-serif;\n",
       "}\n",
       "h2 {\n",
       "font-family: 'Fenix', serif;\n",
       "}\n",
       "h3{\n",
       "font-family: 'Fenix', serif;\n",
       "margin-top:12px;\n",
       "margin-bottom: 3px;\n",
       "}\n",
       "h4{\n",
       "font-family: 'Fenix', serif;\n",
       "}\n",
       "h5 {\n",
       "font-family: 'Alegreya Sans', sans-serif;\n",
       "}\t\n",
       "div.text_cell_render{\n",
       "font-family: 'Alegreya Sans',Computer Modern, \"Helvetica Neue\", Arial, Helvetica, Geneva, sans-serif;\n",
       "line-height: 135%;\n",
       "font-size: 120%;\n",
       "width:600px;\n",
       "margin-left:auto;\n",
       "margin-right:auto;\n",
       "}\n",
       ".CodeMirror{\n",
       "font-family: \"Source Code Pro\";\n",
       "font-size: 90%;\n",
       "}\n",
       "/* .prompt{\n",
       "display: None;\n",
       "}*/\n",
       ".text_cell_render h1 {\n",
       "font-weight: 200;\n",
       "font-size: 50pt;\n",
       "line-height: 100%;\n",
       "color:#CD2305;\n",
       "margin-bottom: 0.5em;\n",
       "margin-top: 0.5em;\n",
       "display: block;\n",
       "}\t\n",
       ".text_cell_render h5 {\n",
       "font-weight: 300;\n",
       "font-size: 16pt;\n",
       "color: #CD2305;\n",
       "font-style: italic;\n",
       "margin-bottom: .5em;\n",
       "margin-top: 0.5em;\n",
       "display: block;\n",
       "}\n",
       ".warning{\n",
       "color: rgb( 240, 20, 20 )\n",
       "}\n",
       "</style>\n",
       "\n",
       "<script>\n",
       "/* Equations */\n",
       "\n",
       "MathJax.Hub.Config({\n",
       "TeX: {\n",
       "extensions: [\"AMSmath.js\"]\n",
       "},\n",
       "tex2jax: {\n",
       "inlineMath: [ ['$','$'], [\"\\\\(\",\"\\\\)\"] ],\n",
       "displayMath: [ ['$$','$$'], [\"\\\\[\",\"\\\\]\"] ]\n",
       "},\n",
       "displayAlign: 'center', // Change this to 'center' to center equations.\n",
       "\"HTML-CSS\": {\n",
       "styles: {'.MathJax_Display': {\"margin\": 4}}\n",
       "}\n",
       "});\n",
       "</script>\n",
       "\n",
       "\n"
      ],
      "text/plain": [
       "<IPython.core.display.HTML object>"
      ]
     },
     "execution_count": 4,
     "metadata": {},
     "output_type": "execute_result"
    }
   ],
   "source": [
    "from IPython.core.display import HTML\n",
    "def css_styling():\n",
    "    styles = open('./nb_style.css', 'r').read()\n",
    "    return HTML(styles)\n",
    "css_styling()"
   ]
  },
  {
   "cell_type": "code",
   "execution_count": null,
   "metadata": {},
   "outputs": [],
   "source": []
  }
 ],
 "metadata": {
  "celltoolbar": "Raw Cell Format",
  "kernelspec": {
   "display_name": "Python 3",
   "language": "python",
   "name": "python3"
  },
  "language_info": {
   "codemirror_mode": {
    "name": "ipython",
    "version": 3
   },
   "file_extension": ".py",
   "mimetype": "text/x-python",
   "name": "python",
   "nbconvert_exporter": "python",
   "pygments_lexer": "ipython3",
   "version": "3.7.1"
  },
  "varInspector": {
   "cols": {
    "lenName": 16,
    "lenType": 16,
    "lenVar": 40
   },
   "kernels_config": {
    "python": {
     "delete_cmd_postfix": "",
     "delete_cmd_prefix": "del ",
     "library": "var_list.py",
     "varRefreshCmd": "print(var_dic_list())"
    },
    "r": {
     "delete_cmd_postfix": ") ",
     "delete_cmd_prefix": "rm(",
     "library": "var_list.r",
     "varRefreshCmd": "cat(var_dic_list()) "
    }
   },
   "types_to_exclude": [
    "module",
    "function",
    "builtin_function_or_method",
    "instance",
    "_Feature"
   ],
   "window_display": false
  }
 },
 "nbformat": 4,
 "nbformat_minor": 1
}
