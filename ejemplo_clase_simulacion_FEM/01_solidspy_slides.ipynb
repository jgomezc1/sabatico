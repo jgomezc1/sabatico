{
 "cells": [
  {
   "cell_type": "markdown",
   "metadata": {
    "raw_mimetype": "text/latex"
   },
   "source": [
    "Contenido bajo licencia Creative Commons BY 4.0 y código bajo licencia MIT. © Juan Gómez y Nicolas Guarín-Zapata 2019. Este material es parte del curso Introducción al Método de los Elementos Finitos en el área de Mecánica Aplicada de la Universidad EAFIT."
   ]
  },
  {
   "cell_type": "markdown",
   "metadata": {
    "slideshow": {
     "slide_type": "slide"
    }
   },
   "source": [
    "# Respuesta de una presa trapezoidal de concreto.\n",
    "### Ejemplo: Clase de simulación"
   ]
  },
  {
   "cell_type": "markdown",
   "metadata": {
    "slideshow": {
     "slide_type": "slide"
    }
   },
   "source": [
    "Considere la presa de concreto de forma trapezoidal mostrada en la figura:\n",
    "\n",
    "\n",
    "<center>\n",
    "    <img src=\"img/presa.svg\"\n",
    "         alt=\"Diagrama de la presa.\"\n",
    "         style=\"width:400px\">\n",
    "</center>"
   ]
  },
  {
   "cell_type": "markdown",
   "metadata": {
    "slideshow": {
     "slide_type": "slide"
    }
   },
   "source": [
    "## Actividades.\n",
    "\n",
    "Determinar los campos de desplazamientos, deformaciones y tensiones considerando el empuje del fluido y el peso propio de la presa.\n",
    "\n",
    "<div class=\"alert alert-warning\">\n",
    "    \n",
    "**Pasos mínimos requeridos en el análisis**\n",
    "\n",
    "* Identifique las condiciones de frontera (físicas) del problema y proponga alternativas de simulación justificando cada propuesta.\n",
    "\n",
    "* Usando la energía de deformación dada por\n",
    "\n",
    "$$\\Pi=\\frac12\\sigma_{ij}\\varepsilon_{ij}$$\n",
    "\n",
    "determine la malla apropiada para realizar el análisis.\n",
    "\n",
    "\n",
    "* Programe una rutina que usando los desplazamientos nodales resultantes del análisis calcule las fuerzas externas, incluyendo las reacciones en los apoyos de manera que se puedan hacer verificaciones de equilibrio de la solución.\n",
    "\n",
    "* Programe una rutina que, usando los desplazamientos nodales resultantes del análisis, grafique la configuración deformada de la presa de acuerdo con:\n",
    "\n",
    "\n",
    "$$\\overrightarrow{X_F}=\\overrightarrow{X_o}+\\;\\overrightarrow U$$\n",
    "\n",
    "donde $\\overrightarrow{X_o}$ es la configuración original, $\\overrightarrow{X_F}$ es la configuración deformada y $\\overrightarrow U$ es la solución por desplazamientos.\n",
    "\n",
    "* Supongase que las cargas laterales se van a imponer de manera incremental de forma que en un instante determinado las tensiones resultantes del paso anterior sean consideradas como pre-esfuerzos. Programe una rutina que convierta este estado de tensiones a fuerzas nodales consistentes con el esquema de interpolación implícito en el método.\n",
    "\n",
    "</div>"
   ]
  },
  {
   "cell_type": "markdown",
   "metadata": {
    "slideshow": {
     "slide_type": "slide"
    }
   },
   "source": [
    "<div class=\"alert alert-warning\">\n",
    "    \n",
    "* Programe una rutina que usando los desplazamientos nodales resultantes del análisis calcule las fuerzas externas, incluyendo las reacciones en los apoyos de manera que se puedan hacer verificaciones de equilibrio de la solución.\n",
    "\n",
    "* Programe una rutina que, usando los desplazamientos nodales resultantes del análisis, grafique la configuración deformada de la presa de acuerdo con:\n",
    "\n",
    "\n",
    "$$\\overrightarrow{X_F}=\\overrightarrow{X_o}+\\;\\overrightarrow U$$\n",
    "\n",
    "donde $\\overrightarrow{X_o}$ es la configuración original, $\\overrightarrow{X_F}$ es la configuración deformada y $\\overrightarrow U$ es la solución por desplazamientos.\n",
    "\n",
    "* Supongase que las cargas laterales se van a imponer de manera incremental de forma que en un instante determinado las tensiones resultantes del paso anterior sean consideradas como pre-esfuerzos. Programe una rutina que convierta este estado de tensiones a fuerzas nodales consistentes con el esquema de interpolación implícito en el método.\n",
    "\n",
    "</div>"
   ]
  },
  {
   "cell_type": "markdown",
   "metadata": {
    "slideshow": {
     "slide_type": "slide"
    }
   },
   "source": [
    "## Análisis"
   ]
  },
  {
   "cell_type": "code",
   "execution_count": 5,
   "metadata": {
    "slideshow": {
     "slide_type": "subslide"
    }
   },
   "outputs": [],
   "source": [
    "# Importe los modulos necesarios para realizar el análisis"
   ]
  },
  {
   "cell_type": "code",
   "execution_count": 6,
   "metadata": {
    "slideshow": {
     "slide_type": "subslide"
    }
   },
   "outputs": [],
   "source": [
    "# Lea el modelo, ensamble y resuelva el sistema de ecuaciones"
   ]
  },
  {
   "cell_type": "code",
   "execution_count": 7,
   "metadata": {
    "slideshow": {
     "slide_type": "subslide"
    }
   },
   "outputs": [],
   "source": [
    "# Post-procese los resultados para análizar el modelo."
   ]
  },
  {
   "cell_type": "markdown",
   "metadata": {
    "slideshow": {
     "slide_type": "slide"
    }
   },
   "source": [
    "### Referencias\n",
    "\n",
    "* Juan Gómez, Nicolás Guarín-Zapata (2018). SolidsPy: 2D-Finite Element Analysis with Python, <https://github.com/AppliedMechanics-EAFIT/SolidsPy>."
   ]
  },
  {
   "cell_type": "code",
   "execution_count": null,
   "metadata": {},
   "outputs": [],
   "source": []
  }
 ],
 "metadata": {
  "celltoolbar": "Slideshow",
  "kernelspec": {
   "display_name": "Python 3",
   "language": "python",
   "name": "python3"
  },
  "language_info": {
   "codemirror_mode": {
    "name": "ipython",
    "version": 3
   },
   "file_extension": ".py",
   "mimetype": "text/x-python",
   "name": "python",
   "nbconvert_exporter": "python",
   "pygments_lexer": "ipython3",
   "version": "3.7.3"
  },
  "varInspector": {
   "cols": {
    "lenName": 16,
    "lenType": 16,
    "lenVar": 40
   },
   "kernels_config": {
    "python": {
     "delete_cmd_postfix": "",
     "delete_cmd_prefix": "del ",
     "library": "var_list.py",
     "varRefreshCmd": "print(var_dic_list())"
    },
    "r": {
     "delete_cmd_postfix": ") ",
     "delete_cmd_prefix": "rm(",
     "library": "var_list.r",
     "varRefreshCmd": "cat(var_dic_list()) "
    }
   },
   "types_to_exclude": [
    "module",
    "function",
    "builtin_function_or_method",
    "instance",
    "_Feature"
   ],
   "window_display": false
  }
 },
 "nbformat": 4,
 "nbformat_minor": 1
}
